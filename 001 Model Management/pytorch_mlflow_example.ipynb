{
 "cells": [
  {
   "cell_type": "markdown",
   "metadata": {},
   "source": [
    "# Building and Managing a Simple CNN Model for MNIST with Pytorch and MLflow"
   ]
  },
  {
   "cell_type": "markdown",
   "metadata": {},
   "source": [
    "## Prerequisites"
   ]
  },
  {
   "cell_type": "code",
   "execution_count": 5,
   "metadata": {},
   "outputs": [],
   "source": [
    "# Before running the code, make sure you have the required libraries installed:\n",
    "# !pip install torch torchvision mlflow"
   ]
  },
  {
   "cell_type": "code",
   "execution_count": null,
   "metadata": {},
   "outputs": [],
   "source": [
    "import torch\n",
    "import torch.nn as nn\n",
    "import torch.optim as optim\n",
    "import torchvision\n",
    "import torchvision.transforms as transforms\n",
    "from torch.utils.data import DataLoader\n",
    "import mlflow\n",
    "import mlflow.pytorch\n",
    "import os"
   ]
  },
  {
   "cell_type": "markdown",
   "metadata": {},
   "source": [
    "## Model Definition\n",
    "- A simple CNN model with two convolutional layers followed by fully connected layers."
   ]
  },
  {
   "cell_type": "code",
   "execution_count": 3,
   "metadata": {},
   "outputs": [],
   "source": [
    "# Define the CNN model\n",
    "class SimpleCNN(nn.Module):\n",
    "    def __init__(self):\n",
    "        super(SimpleCNN, self).__init__()\n",
    "        self.conv1 = nn.Conv2d(1, 32, kernel_size=3, padding=1)\n",
    "        self.conv2 = nn.Conv2d(32, 64, kernel_size=3, padding=1)\n",
    "        self.pool = nn.MaxPool2d(kernel_size=2, stride=2, padding=0)\n",
    "        self.fc1 = nn.Linear(64 * 7 * 7, 128)\n",
    "        self.fc2 = nn.Linear(128, 10)\n",
    "        self.relu = nn.ReLU()\n",
    "    \n",
    "    def forward(self, x):\n",
    "        x = self.pool(self.relu(self.conv1(x)))\n",
    "        x = self.pool(self.relu(self.conv2(x)))\n",
    "        x = x.view(-1, 64 * 7 * 7)\n",
    "        x = self.relu(self.fc1(x))\n",
    "        x = self.fc2(x)\n",
    "        return x\n",
    "    \n",
    "# Set device\n",
    "device = torch.device('cuda' if torch.cuda.is_available() else 'cpu')\n",
    "print(device)"
   ]
  },
  {
   "cell_type": "markdown",
   "metadata": {},
   "source": [
    "## Data Loading\n",
    "- MNIST dataset is loaded and transformed."
   ]
  },
  {
   "cell_type": "code",
   "execution_count": 2,
   "metadata": {},
   "outputs": [
    {
     "name": "stdout",
     "output_type": "stream",
     "text": [
      "Downloading http://yann.lecun.com/exdb/mnist/train-images-idx3-ubyte.gz\n",
      "Failed to download (trying next):\n",
      "HTTP Error 403: Forbidden\n",
      "\n",
      "Downloading https://ossci-datasets.s3.amazonaws.com/mnist/train-images-idx3-ubyte.gz\n",
      "Downloading https://ossci-datasets.s3.amazonaws.com/mnist/train-images-idx3-ubyte.gz to ./data/MNIST/raw/train-images-idx3-ubyte.gz\n"
     ]
    },
    {
     "name": "stderr",
     "output_type": "stream",
     "text": [
      "100.0%\n"
     ]
    },
    {
     "name": "stdout",
     "output_type": "stream",
     "text": [
      "Extracting ./data/MNIST/raw/train-images-idx3-ubyte.gz to ./data/MNIST/raw\n",
      "\n",
      "Downloading http://yann.lecun.com/exdb/mnist/train-labels-idx1-ubyte.gz\n",
      "Failed to download (trying next):\n",
      "HTTP Error 403: Forbidden\n",
      "\n",
      "Downloading https://ossci-datasets.s3.amazonaws.com/mnist/train-labels-idx1-ubyte.gz\n",
      "Downloading https://ossci-datasets.s3.amazonaws.com/mnist/train-labels-idx1-ubyte.gz to ./data/MNIST/raw/train-labels-idx1-ubyte.gz\n"
     ]
    },
    {
     "name": "stderr",
     "output_type": "stream",
     "text": [
      "100.0%\n"
     ]
    },
    {
     "name": "stdout",
     "output_type": "stream",
     "text": [
      "Extracting ./data/MNIST/raw/train-labels-idx1-ubyte.gz to ./data/MNIST/raw\n",
      "\n",
      "Downloading http://yann.lecun.com/exdb/mnist/t10k-images-idx3-ubyte.gz\n",
      "Failed to download (trying next):\n",
      "HTTP Error 403: Forbidden\n",
      "\n",
      "Downloading https://ossci-datasets.s3.amazonaws.com/mnist/t10k-images-idx3-ubyte.gz\n",
      "Downloading https://ossci-datasets.s3.amazonaws.com/mnist/t10k-images-idx3-ubyte.gz to ./data/MNIST/raw/t10k-images-idx3-ubyte.gz\n"
     ]
    },
    {
     "name": "stderr",
     "output_type": "stream",
     "text": [
      "100.0%\n"
     ]
    },
    {
     "name": "stdout",
     "output_type": "stream",
     "text": [
      "Extracting ./data/MNIST/raw/t10k-images-idx3-ubyte.gz to ./data/MNIST/raw\n",
      "\n",
      "Downloading http://yann.lecun.com/exdb/mnist/t10k-labels-idx1-ubyte.gz\n",
      "Failed to download (trying next):\n",
      "HTTP Error 403: Forbidden\n",
      "\n",
      "Downloading https://ossci-datasets.s3.amazonaws.com/mnist/t10k-labels-idx1-ubyte.gz\n",
      "Downloading https://ossci-datasets.s3.amazonaws.com/mnist/t10k-labels-idx1-ubyte.gz to ./data/MNIST/raw/t10k-labels-idx1-ubyte.gz\n"
     ]
    },
    {
     "name": "stderr",
     "output_type": "stream",
     "text": [
      "100.0%"
     ]
    },
    {
     "name": "stdout",
     "output_type": "stream",
     "text": [
      "Extracting ./data/MNIST/raw/t10k-labels-idx1-ubyte.gz to ./data/MNIST/raw\n",
      "\n"
     ]
    },
    {
     "name": "stderr",
     "output_type": "stream",
     "text": [
      "\n"
     ]
    }
   ],
   "source": [
    "# Define hyperparameters\n",
    "batch_size = 64\n",
    "learning_rate = 0.001\n",
    "num_epochs = 5\n",
    "\n",
    "# Load the dataset\n",
    "transform = transforms.Compose([transforms.ToTensor(), transforms.Normalize((0.5,), (0.5,))])\n",
    "train_dataset = torchvision.datasets.MNIST(root='./data', train=True, download=True, transform=transform)\n",
    "test_dataset = torchvision.datasets.MNIST(root='./data', train=False, download=True, transform=transform)\n",
    "\n",
    "train_loader = DataLoader(dataset=train_dataset, batch_size=batch_size, shuffle=True)\n",
    "test_loader = DataLoader(dataset=test_dataset, batch_size=batch_size, shuffle=False)"
   ]
  },
  {
   "cell_type": "markdown",
   "metadata": {},
   "source": [
    "## Experiment Tracking\n",
    "### Training Loop\n",
    "- Model training is performed for a specified number of epochs, logging the loss periodically.\n",
    "### Model Evaluation\n",
    "- The model's accuracy is computed on the test set and logged.\n",
    "### MLflow Logging\n",
    "- Parameters, metrics, and the trained model are logged using MLflow."
   ]
  },
  {
   "cell_type": "code",
   "execution_count": 4,
   "metadata": {},
   "outputs": [
    {
     "name": "stderr",
     "output_type": "stream",
     "text": [
      "2024/05/26 19:27:37 INFO mlflow.tracking.fluent: Experiment with name 'MNIST_CNN_Experiment' does not exist. Creating a new experiment.\n"
     ]
    },
    {
     "name": "stdout",
     "output_type": "stream",
     "text": [
      "Epoch [1/5], Step [100/938], Loss: 0.1898\n",
      "Epoch [1/5], Step [200/938], Loss: 0.0753\n",
      "Epoch [1/5], Step [300/938], Loss: 0.1094\n",
      "Epoch [1/5], Step [400/938], Loss: 0.0642\n",
      "Epoch [1/5], Step [500/938], Loss: 0.0625\n",
      "Epoch [1/5], Step [600/938], Loss: 0.0199\n",
      "Epoch [1/5], Step [700/938], Loss: 0.0268\n",
      "Epoch [1/5], Step [800/938], Loss: 0.0257\n",
      "Epoch [1/5], Step [900/938], Loss: 0.0589\n",
      "Epoch [2/5], Step [100/938], Loss: 0.0199\n",
      "Epoch [2/5], Step [200/938], Loss: 0.0760\n",
      "Epoch [2/5], Step [300/938], Loss: 0.0219\n",
      "Epoch [2/5], Step [400/938], Loss: 0.0085\n",
      "Epoch [2/5], Step [500/938], Loss: 0.0050\n",
      "Epoch [2/5], Step [600/938], Loss: 0.0710\n",
      "Epoch [2/5], Step [700/938], Loss: 0.0397\n",
      "Epoch [2/5], Step [800/938], Loss: 0.2745\n",
      "Epoch [2/5], Step [900/938], Loss: 0.0465\n",
      "Epoch [3/5], Step [100/938], Loss: 0.0607\n",
      "Epoch [3/5], Step [200/938], Loss: 0.0131\n",
      "Epoch [3/5], Step [300/938], Loss: 0.0750\n",
      "Epoch [3/5], Step [400/938], Loss: 0.0068\n",
      "Epoch [3/5], Step [500/938], Loss: 0.0070\n",
      "Epoch [3/5], Step [600/938], Loss: 0.0033\n",
      "Epoch [3/5], Step [700/938], Loss: 0.0057\n",
      "Epoch [3/5], Step [800/938], Loss: 0.0189\n",
      "Epoch [3/5], Step [900/938], Loss: 0.0060\n",
      "Epoch [4/5], Step [100/938], Loss: 0.0050\n",
      "Epoch [4/5], Step [200/938], Loss: 0.0012\n",
      "Epoch [4/5], Step [300/938], Loss: 0.0373\n",
      "Epoch [4/5], Step [400/938], Loss: 0.0193\n",
      "Epoch [4/5], Step [500/938], Loss: 0.0555\n",
      "Epoch [4/5], Step [600/938], Loss: 0.0289\n",
      "Epoch [4/5], Step [700/938], Loss: 0.0021\n",
      "Epoch [4/5], Step [800/938], Loss: 0.0280\n",
      "Epoch [4/5], Step [900/938], Loss: 0.0072\n",
      "Epoch [5/5], Step [100/938], Loss: 0.0081\n",
      "Epoch [5/5], Step [200/938], Loss: 0.0011\n",
      "Epoch [5/5], Step [300/938], Loss: 0.0123\n",
      "Epoch [5/5], Step [400/938], Loss: 0.0555\n",
      "Epoch [5/5], Step [500/938], Loss: 0.0469\n",
      "Epoch [5/5], Step [600/938], Loss: 0.0003\n",
      "Epoch [5/5], Step [700/938], Loss: 0.0040\n",
      "Epoch [5/5], Step [800/938], Loss: 0.0069\n",
      "Epoch [5/5], Step [900/938], Loss: 0.0098\n",
      "Accuracy of the model on the 10000 test images: 99.10%\n",
      "Training complete and model saved with MLflow.\n"
     ]
    }
   ],
   "source": [
    "# Initialize the model, loss function, and optimizer\n",
    "model = SimpleCNN().to(device)\n",
    "criterion = nn.CrossEntropyLoss()\n",
    "optimizer = optim.Adam(model.parameters(), lr=learning_rate)\n",
    "\n",
    "# MLflow experiment setup\n",
    "mlflow.set_experiment(\"MNIST_CNN_Experiment\")\n",
    "\n",
    "with mlflow.start_run():\n",
    "    mlflow.log_param(\"batch_size\", batch_size)\n",
    "    mlflow.log_param(\"learning_rate\", learning_rate)\n",
    "    mlflow.log_param(\"num_epochs\", num_epochs)\n",
    "\n",
    "    # Training loop\n",
    "    for epoch in range(num_epochs):\n",
    "        model.train()\n",
    "        running_loss = 0.0\n",
    "        for i, (images, labels) in enumerate(train_loader):\n",
    "            images, labels = images.to(device), labels.to(device)\n",
    "\n",
    "            # Forward pass\n",
    "            outputs = model(images)\n",
    "            loss = criterion(outputs, labels)\n",
    "\n",
    "            # Backward pass and optimization\n",
    "            optimizer.zero_grad()\n",
    "            loss.backward()\n",
    "            optimizer.step()\n",
    "\n",
    "            running_loss += loss.item()\n",
    "\n",
    "            if (i+1) % 100 == 0:\n",
    "                print(f'Epoch [{epoch+1}/{num_epochs}], Step [{i+1}/{len(train_loader)}], Loss: {loss.item():.4f}')\n",
    "\n",
    "        # Log the running loss\n",
    "        mlflow.log_metric(\"loss\", running_loss / len(train_loader), step=epoch)\n",
    "\n",
    "    # Evaluate the model\n",
    "    model.eval()\n",
    "    with torch.no_grad():\n",
    "        correct = 0\n",
    "        total = 0\n",
    "        for images, labels in test_loader:\n",
    "            images, labels = images.to(device), labels.to(device)\n",
    "            outputs = model(images)\n",
    "            _, predicted = torch.max(outputs.data, 1)\n",
    "            total += labels.size(0)\n",
    "            correct += (predicted == labels).sum().item()\n",
    "\n",
    "        accuracy = 100 * correct / total\n",
    "        print(f'Accuracy of the model on the 10000 test images: {accuracy:.2f}%')\n",
    "        mlflow.log_metric(\"accuracy\", accuracy)\n",
    "\n",
    "    # Save the model\n",
    "    model_path = \"mnist_cnn_model.pth\"\n",
    "    torch.save(model.state_dict(), model_path)\n",
    "    mlflow.log_artifact(model_path)\n",
    "\n",
    "    # Log the model with MLflow\n",
    "    mlflow.pytorch.log_model(model, \"model\")\n",
    "\n",
    "print(\"Training complete and model saved with MLflow.\")"
   ]
  },
  {
   "cell_type": "markdown",
   "metadata": {},
   "source": [
    "## Run MLflow Server"
   ]
  },
  {
   "cell_type": "code",
   "execution_count": null,
   "metadata": {},
   "outputs": [],
   "source": [
    "# Building and Managing a Simple CNN Model for MNIST with PyTorch and MLflow\n",
    "# !mlflow ui"
   ]
  },
  {
   "cell_type": "code",
   "execution_count": null,
   "metadata": {},
   "outputs": [],
   "source": [
    "\n"
   ]
  }
 ],
 "metadata": {
  "kernelspec": {
   "display_name": "mlops",
   "language": "python",
   "name": "python3"
  },
  "language_info": {
   "codemirror_mode": {
    "name": "ipython",
    "version": 3
   },
   "file_extension": ".py",
   "mimetype": "text/x-python",
   "name": "python",
   "nbconvert_exporter": "python",
   "pygments_lexer": "ipython3",
   "version": "3.12.3"
  }
 },
 "nbformat": 4,
 "nbformat_minor": 2
}
